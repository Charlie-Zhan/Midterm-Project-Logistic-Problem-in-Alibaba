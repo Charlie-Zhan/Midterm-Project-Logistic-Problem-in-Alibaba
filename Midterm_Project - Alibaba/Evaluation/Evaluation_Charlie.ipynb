{
 "cells": [
  {
   "cell_type": "markdown",
   "metadata": {},
   "source": [
    "# Evaluating the Solutions for the Logistic Problem in Alibaba"
   ]
  },
  {
   "cell_type": "markdown",
   "metadata": {},
   "source": [
    "Note:Please make sure that you are using unique codes because this problem is different with previous midterm projects. "
   ]
  },
  {
   "cell_type": "markdown",
   "metadata": {},
   "source": [
    "### First lets generate the 300 random knapsack sizes and write the results to a csv"
   ]
  },
  {
   "cell_type": "code",
   "execution_count": 1,
   "metadata": {},
   "outputs": [],
   "source": [
    "import numpy as np\n",
    "\n",
    "\n",
    "'''you will generate 300 capacities for each instance. It will be between 100-160. You will use normal distribution as mean:130 and standart deviation:30'''\n",
    "\n",
    "f = open(\"Knap_Sizes_Charlie.csv\", \"w\") # We will create this file.\n",
    "\n",
    "for i in range(300):\n",
    "    random = np.random.normal(130,30)\n",
    "    f.write('%d\\n'%random)\n",
    "    \n",
    "f.close()"
   ]
  },
  {
   "cell_type": "markdown",
   "metadata": {},
   "source": [
    "### Last, let us evaluate the solution file based on the randomly generated knapsack sizes. "
   ]
  },
  {
   "cell_type": "code",
   "execution_count": 2,
   "metadata": {},
   "outputs": [
    {
     "name": "stdout",
     "output_type": "stream",
     "text": [
      "using dynamic programming, the optimal values of the 300 instances are\n",
      "\n",
      "[258.63, 201.15, 237.76999999999998, 157.32999999999998, 288.75, 179.62, 173.66, 223.22, 256.46, 144.42, 195.46, 271.31, 268.88, 157.76, 141.18, 242.51, 288.51, 238.8, 308.57000000000005, 170.64999999999998, 270.24, 229.63000000000002, 206.92000000000002, 149.96, 211.6, 196.02, 234.95999999999998, 320.4, 104.98, 301.23, 304.74, 213.48000000000002, 195.0, 239.29000000000002, 308.34, 234.99, 142.71, 378.65999999999997, 141.17000000000002, 158.72, 272.99, 222.35000000000002, 205.18, 343.92, 256.85, 243.44, 315.03, 204.89999999999998, 182.69, 279.45, 139.56, 189.9, 235.60000000000002, 267.92, 247.22, 245.85999999999999, 284.07, 154.64, 122.17, 266.66999999999996, 156.56, 362.1, 327.82000000000005, 296.41, 172.86, 237.52, 259.36999999999995, 193.82, 153.54, 192.7, 215.37, 251.62, 271.38, 233.91, 264.12, 239.26, 146.79000000000002, 209.51000000000002, 335.22999999999996, 248.03000000000003, 207.04, 263.7, 273.09999999999997, 207.10000000000002, 171.33, 241.44, 341.04, 292.74, 213.16, 257.91, 238.60999999999999, 248.94000000000003, 195.6, 190.35, 343.76, 260.66999999999996, 153.2, 318.70000000000005, 143.18, 222.47, 195.35, 199.21999999999997, 220.76, 175.52, 224.21, 251.07, 242.6, 329.62, 228.75, 262.54, 255.40999999999997, 307.5, 233.73, 197.93, 219.06, 271.43999999999994, 335.36, 360.17, 193.3, 216.62, 147.45999999999998, 344.28999999999996, 159.30999999999997, 187.85, 202.93, 209.32000000000002, 258.4, 258.13, 220.08999999999997, 244.75, 165.79999999999998, 168.42, 227.64000000000001, 176.87, 241.22, 183.19, 272.2, 210.3, 337.57, 252.96, 231.18, 278.91, 163.2, 150.57, 130.32, 247.9, 226.38, 216.63000000000002, 312.18, 221.29999999999998, 187.97, 236.17999999999998, 249.45999999999998, 248.04000000000002, 251.02, 302.93, 346.83, 295.25, 347.69, 192.52, 277.88, 150.55, 170.19000000000003, 278.9, 356.25, 321.05, 278.64, 419.01000000000005, 176.16, 215.65, 248.7, 271.48, 250.25, 273.12, 291.83000000000004, 162.85, 285.48, 265.45, 341.93, 322.16, 208.48, 209.11, 257.37, 275.3, 330.53999999999996, 287.99, 266.39, 262.28, 259.02, 262.53999999999996, 179.55, 251.96, 260.2, 250.41000000000003, 260.92, 233.39, 167.78, 104.76, 196.17000000000002, 205.61, 295.03999999999996, 221.07000000000002, 136.56, 221.91, 305.85, 168.94, 233.45, 236.14000000000001, 186.42000000000002, 376.84, 321.28999999999996, 332.78000000000003, 265.84000000000003, 286.59999999999997, 247.57999999999998, 303.47999999999996, 191.48000000000002, 252.23000000000002, 247.05, 230.31, 325.67, 192.72, 215.66000000000003, 255.0, 258.77, 290.37, 235.14999999999998, 81.27, 266.69, 247.7, 240.32, 216.97, 181.06, 163.69, 171.10000000000002, 213.11, 203.9, 396.32, 249.98, 298.44000000000005, 179.16, 241.69, 183.23999999999998, 154.85000000000002, 187.08999999999997, 242.23, 310.17, 191.28, 182.43, 203.01, 305.6, 261.18, 236.12, 215.15, 208.4, 332.96000000000004, 285.15999999999997, 189.82999999999998, 236.95000000000002, 340.21, 256.07, 333.09999999999997, 313.31, 258.01, 165.42, 171.02, 287.45000000000005, 296.26, 176.29000000000002, 321.29999999999995, 268.04, 244.49, 215.46, 284.97999999999996, 205.51999999999998, 314.36, 342.59000000000003, 177.98000000000002, 256.8, 177.64999999999998, 214.63, 245.96, 182.42000000000002, 139.1, 149.85, 245.95, 251.23000000000002, 226.02, 278.92, 215.27, 229.7, 272.78000000000003, 234.39999999999998, 353.94, 201.14999999999998, 91.71000000000001, 179.23, 123.03999999999999, 338.56, 290.25]\n"
     ]
    }
   ],
   "source": [
    "submitted_file_path = \"test_knapsack_solution_Charlie.csv\"\n",
    "\n",
    "def Evaluate_Sol(file_path):\n",
    "    \n",
    "    c=[int(line.strip('\\n')) for line in open(\"Knap_Sizes.csv\", \"r\").readlines()]\n",
    "    lines = open(\"Knapsack-Instances.csv\", \"r\").readlines()\n",
    "    w=[]    \n",
    "    v=[]\n",
    "    optimal=[]\n",
    "    n=50\n",
    "    assign=[]\n",
    "    f=open('test_knapsack_solution','w')\n",
    "    for i in range(0,900,3):\n",
    "        w+=[[int(float(num)) for num in lines[i].strip('\\n').split(',')]]\n",
    "        v+=[[float(num) for num in lines[i+1].strip('\\n').split(',')]]\n",
    "        dp = [[0 for x in range(c[int(i/3)] + 1)] for x in range(n + 1)]\n",
    "        used = [0 for i in range(n)]\n",
    "        l=1\n",
    "        for j in range(1,n+1):\n",
    "            for k in range(1,c[int(i/3)] +1):\n",
    "                if w[int(i/3)][j - 1] <= k:\n",
    "                    dp[j][k] = max(dp[j - 1][k],dp[j - 1][k - w[int(i/3)][j - 1]] + v[int(i/3)][j - 1])\n",
    "                else:\n",
    "                    dp[j][k] = dp[j - 1][k]\n",
    "            if dp[-j][-l]>dp[-j-1][-l]:\n",
    "                used[-j]=1\n",
    "                l += w[int(i/3)][-j]\n",
    "            assign+=[used]\n",
    "        optimal.append(dp[n][c[int(i/3)]])\n",
    "    text=''\n",
    "    for i in range(300):\n",
    "        w_text=','.join([str(num) for num in w[i]])+'\\n'\n",
    "        v_text=','.join([str(num) for num in v[i]])+'\\n'\n",
    "        assign_text=','.join([str(num) for num in assign[i]])+'\\n'\n",
    "        text=text+w_text+v_text+assign_text\n",
    "    print('using dynamic programming, the optimal values of the 300 instances are\\n')\n",
    "    print(optimal)\n",
    "    f=open(file_path,'w')\n",
    "    f.write(text)\n",
    "\n",
    "final_results = Evaluate_Sol(submitted_file_path)\n",
    "final_results"
   ]
  },
  {
   "cell_type": "markdown",
   "metadata": {},
   "source": [
    "Note: This result could be change for each group because we are using random numbers. But, the results are supposed to be different and in an acceptable range. "
   ]
  },
  {
   "cell_type": "markdown",
   "metadata": {},
   "source": [
    "Note: Please submit all files (Knap_Sizes, test_knapsack_solution, and Evaluation.ipynp files) as one zip file on the canvas. Please add IDs on the zip file. For example, 14325_34672_12345.zip"
   ]
  }
 ],
 "metadata": {
  "kernelspec": {
   "display_name": "Python 3",
   "language": "python",
   "name": "python3"
  },
  "language_info": {
   "codemirror_mode": {
    "name": "ipython",
    "version": 3
   },
   "file_extension": ".py",
   "mimetype": "text/x-python",
   "name": "python",
   "nbconvert_exporter": "python",
   "pygments_lexer": "ipython3",
   "version": "3.7.7"
  },
  "toc": {
   "nav_menu": {
    "height": "30px",
    "width": "252px"
   },
   "number_sections": true,
   "sideBar": true,
   "skip_h1_title": false,
   "toc_cell": false,
   "toc_position": {},
   "toc_section_display": "block",
   "toc_window_display": false
  }
 },
 "nbformat": 4,
 "nbformat_minor": 2
}
